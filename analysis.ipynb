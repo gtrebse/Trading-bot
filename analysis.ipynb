{
 "cells": [
  {
   "cell_type": "markdown",
   "metadata": {},
   "source": [
    "### Analyze the arbitrage potential"
   ]
  },
  {
   "cell_type": "code",
   "execution_count": null,
   "metadata": {},
   "outputs": [],
   "source": [
    "import pandas as pd\n",
    "import sqlite3\n",
    "\n",
    "# Set the maximum number of columns displayed\n",
    "pd.set_option('display.max_columns', None)\n",
    "\n",
    "# Set the width of the display in characters\n",
    "pd.set_option('display.width', None)\n",
    "\n",
    "# List of database names\n",
    "#databases = ['trading_log_ampl.db', 'trading_log_manta.db', 'trading_log_mina.db', 'trading_log_solana.db', 'trading_log_jup.db']\n",
    "tickers = ['SOLUSDT', 'BTCUSDT', 'ETHUSDT', 'MANTAUSDT', 'JUPUSDT', 'MINAUSDT', 'AMPLUSDT']\n",
    "tables = []\n",
    "for ticker in tickers:\n",
    "    tables.append(f'pair_{ticker}')\n",
    "\n",
    "# Iterate through the database list\n",
    "for table_name in tables:\n",
    "    \n",
    "    # Connect to the SQLite database\n",
    "    with sqlite3.connect('./data/arbitrage_opportunities.db') as conn:\n",
    "        # Query the database and load into a Pandas DataFrame\n",
    "        df = pd.read_sql_query(f'SELECT * FROM {table_name}', conn)\n",
    "\n",
    "    # Convert the timestamp to a readable date\n",
    "    df['timestamp'] = pd.to_datetime(df['timestamp'], unit='s')\n",
    "\n",
    "    # Sort the DataFrame by the 'ratio' column in descending order\n",
    "    sorted_df = df.sort_values(by='ratio', ascending=False)\n",
    "\n",
    "    # Get the top 5 rows with the largest ratios\n",
    "    top_5_largest_ratios = sorted_df.head(10)\n",
    "\n",
    "    # Display the database name and the top 5 largest ratios\n",
    "    print(f\"Top 5 ratios for {table_name}:\\n\", top_5_largest_ratios, \"\\n\")"
   ]
  },
  {
   "cell_type": "code",
   "execution_count": null,
   "metadata": {},
   "outputs": [],
   "source": []
  }
 ],
 "metadata": {
  "kernelspec": {
   "display_name": "Python 3",
   "language": "python",
   "name": "python3"
  },
  "language_info": {
   "codemirror_mode": {
    "name": "ipython",
    "version": 3
   },
   "file_extension": ".py",
   "mimetype": "text/x-python",
   "name": "python",
   "nbconvert_exporter": "python",
   "pygments_lexer": "ipython3",
   "version": "3.11.7"
  },
  "orig_nbformat": 4
 },
 "nbformat": 4,
 "nbformat_minor": 2
}
